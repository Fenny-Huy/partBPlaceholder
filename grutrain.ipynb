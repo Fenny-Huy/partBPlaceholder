{
 "cells": [
  {
   "cell_type": "markdown",
   "id": "fa02eaf4",
   "metadata": {},
   "source": [
    "GRU Model "
   ]
  },
  {
   "cell_type": "code",
   "execution_count": null,
   "id": "ca1aca41",
   "metadata": {},
   "outputs": [],
   "source": [
    "#  algorithms/gru_model.py logic in‐notebook\n",
    "\n",
    "import numpy as np\n",
    "import pandas as pd\n",
    "import tensorflow as tf\n",
    "from sklearn.preprocessing import MinMaxScaler\n",
    "from sklearn.model_selection import train_test_split\n",
    "\n",
    "class GRUTrafficPredictor:\n",
    "    def __init__(self, data: pd.DataFrame, sequence_length: int = 96, epochs: int = 30):\n",
    "        \"\"\"\n",
    "        data: DataFrame with ['Timestamp','Site_ID','Volume']\n",
    "        sequence_length: number of 15‐min intervals in your input window (default 96 = 24 h)\n",
    "        epochs: how many epochs to train\n",
    "        \"\"\"\n",
    "        # 1) Sort by time\n",
    "        self.df = data.sort_values(\"Timestamp\").reset_index(drop=True)\n",
    "        self.seq_len = sequence_length\n",
    "        self.epochs  = epochs\n",
    "\n",
    "        # 2) extract & scale volumes\n",
    "        ts = pd.to_datetime(self.df[\"Timestamp\"])\n",
    "        vols = self.df[\"Volume\"].values.reshape(-1,1)\n",
    "        self.scaler       = MinMaxScaler(feature_range=(0,1))\n",
    "        self.vols_scaled  = self.scaler.fit_transform(vols)\n",
    "        self.timestamps   = ts.values\n",
    "\n",
    "        # placeholder for the trained model\n",
    "        self.model = None\n",
    "\n",
    "    def _make_sequences(self, series: np.ndarray):\n",
    "        X, y = [], []\n",
    "        for i in range(len(series) - self.seq_len):\n",
    "            X.append(series[i : i + self.seq_len])\n",
    "            y.append(series[i + self.seq_len, 0])\n",
    "        return np.array(X), np.array(y)\n",
    "\n",
    "    def train_model(self):\n",
    "        # 1) build (X,y) from the entire history\n",
    "        X, y = self._make_sequences(self.vols_scaled)\n",
    "\n",
    "        # 2) split chronologically\n",
    "        X_train, X_val, y_train, y_val = train_test_split(\n",
    "            X, y, test_size=0.2, shuffle=False\n",
    "        )\n",
    "\n",
    "        # 3) defines a 2‐layer GRU\n",
    "        self.model = tf.keras.Sequential([\n",
    "            tf.keras.Input(shape=(self.seq_len, 1)),\n",
    "            tf.keras.layers.GRU(64, return_sequences=True, activation=\"tanh\"),\n",
    "            tf.keras.layers.Dropout(0.2),\n",
    "            tf.keras.layers.GRU(32, activation=\"tanh\"),\n",
    "            tf.keras.layers.Dense(1),\n",
    "        ])\n",
    "        self.model.compile(optimizer=\"adam\", loss=\"mse\")\n",
    "\n",
    "        # 4) train with early stopping\n",
    "        self.model.fit(\n",
    "            X_train, y_train,\n",
    "            validation_data=(X_val, y_val),\n",
    "            epochs=self.epochs,\n",
    "            batch_size=64,\n",
    "            callbacks=[tf.keras.callbacks.EarlyStopping(\n",
    "                monitor=\"val_loss\", patience=3, restore_best_weights=True\n",
    "            )],\n",
    "            verbose=2\n",
    "        )\n"
   ]
  },
  {
   "cell_type": "markdown",
   "id": "d9898012",
   "metadata": {},
   "source": [
    "train.py"
   ]
  },
  {
   "cell_type": "code",
   "execution_count": null,
   "id": "be70933f",
   "metadata": {},
   "outputs": [
    {
     "name": "stdout",
     "output_type": "stream",
     "text": [
      "📥 Loading data from C:\\Users\\miran\\Downloads\\traffic_model_ready.csv …\n",
      "▶️  Training GRU model…\n",
      "Epoch 1/10\n",
      "5030/5030 - 635s - 126ms/step - loss: 0.0065 - val_loss: 0.0060\n",
      "Epoch 2/10\n",
      "5030/5030 - 561s - 112ms/step - loss: 0.0063 - val_loss: 0.0059\n",
      "Epoch 3/10\n",
      "5030/5030 - 534s - 106ms/step - loss: 0.0063 - val_loss: 0.0059\n",
      "Epoch 4/10\n",
      "5030/5030 - 621s - 123ms/step - loss: 0.0063 - val_loss: 0.0059\n",
      "Epoch 5/10\n",
      "5030/5030 - 533s - 106ms/step - loss: 0.0063 - val_loss: 0.0059\n",
      "Epoch 6/10\n",
      "5030/5030 - 600s - 119ms/step - loss: 0.0063 - val_loss: 0.0059\n",
      "Epoch 7/10\n",
      "5030/5030 - 596s - 118ms/step - loss: 0.0063 - val_loss: 0.0059\n",
      "Epoch 8/10\n",
      "5030/5030 - 511s - 102ms/step - loss: 0.0063 - val_loss: 0.0059\n",
      "Epoch 9/10\n",
      "5030/5030 - 563s - 112ms/step - loss: 0.0063 - val_loss: 0.0059\n"
     ]
    },
    {
     "name": "stderr",
     "output_type": "stream",
     "text": [
      "WARNING:absl:You are saving your model as an HDF5 file via `model.save()` or `keras.saving.save_model(model)`. This file format is considered legacy. We recommend using instead the native Keras format, e.g. `model.save('my_model.keras')` or `keras.saving.save_model(model, 'my_model.keras')`. \n"
     ]
    },
    {
     "name": "stdout",
     "output_type": "stream",
     "text": [
      "✅  Saved GRU model to C:\\Users\\miran\\Downloads\\gru_model.h5\n"
     ]
    }
   ],
   "source": [
    "# train & persist weights \n",
    "\n",
    "\n",
    "import os\n",
    "import pandas as pd\n",
    "\n",
    "\n",
    "# 1) Load your processed CSV\n",
    "csv_path = r\"C:\\Users\\miran\\Downloads\\traffic_model_ready.csv\"\n",
    "print(f\"📥 Loading data from {csv_path} …\")\n",
    "df = pd.read_csv(csv_path, parse_dates=[\"Timestamp\"])\n",
    "df = df.sort_values(\"Timestamp\").reset_index(drop=True)\n",
    "\n",
    "# 2) Train the GRU\n",
    "predictor = GRUTrafficPredictor(\n",
    "    data=df,\n",
    "    sequence_length=96,  # 96×15 min = 24 h\n",
    "    epochs=10            \n",
    ")\n",
    "print(\"▶️  Training GRU model…\")\n",
    "predictor.train_model()\n",
    "\n",
    "# 3) Save the full model (architecture + weights) into Downloads\n",
    "download_dir = r\"C:\\Users\\miran\\Downloads\"\n",
    "os.makedirs(download_dir, exist_ok=True)\n",
    "out_path = os.path.join(download_dir, \"gru_model.h5\")\n",
    "predictor.model.save(out_path)\n",
    "print(f\"✅  Saved GRU model to {out_path}\")\n"
   ]
  }
 ],
 "metadata": {
  "kernelspec": {
   "display_name": "aima",
   "language": "python",
   "name": "python3"
  },
  "language_info": {
   "codemirror_mode": {
    "name": "ipython",
    "version": 3
   },
   "file_extension": ".py",
   "mimetype": "text/x-python",
   "name": "python",
   "nbconvert_exporter": "python",
   "pygments_lexer": "ipython3",
   "version": "3.9.21"
  }
 },
 "nbformat": 4,
 "nbformat_minor": 5
}
